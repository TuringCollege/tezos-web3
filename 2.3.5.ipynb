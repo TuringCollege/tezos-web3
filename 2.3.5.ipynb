{
  "nbformat": 4,
  "nbformat_minor": 0,
  "metadata": {
    "colab": {
      "provenance": []
    },
    "kernelspec": {
      "name": "python3",
      "display_name": "Python 3"
    },
    "language_info": {
      "name": "python"
    }
  },
  "cells": [
    {
      "cell_type": "markdown",
      "source": [
        "# Module 2 – Introduction to Tezos for developers\n",
        "## Sprint 3 – Tezos in-depth\n",
        "## Part 5 – Practical Project\n",
        "\n",
        "## Project Description\n",
        "Write 2 smart contracts that interact with each other. You should write your contract in such a way that there is at least 1 deliberate security flaw that you are aware of. The other learner will need to try to find at least 1 flaw. The more simple the contract appears, the better – imagine that you are actually trying to deploy a smart contract for other people to use, wanting to convince them that it is safe. This means that if you make a deliberately convoluted contract, many people will not understand it and therefore not trust it, avoiding to use it.\n",
        "\n",
        "You can choose any of the following languages – LIGO, Smartpy, Archetype. \n",
        "\n",
        "Bonus points - after you write the code with the deliberate flaw and compile it to Michelson, make the fixes to the security flaws in the Michelson code. Upload the fixed Michelson code to the GitHub repository. Depending on the smart contract that you write, this can be very challenging, however. Spend at least 2 hours attempting this bonus challenge though, since even if you do not manage to do it, it will improve your Michelson skills. \n",
        "\n",
        "If you cannot make the fixes directly in Michelson, you can make them in your original LIGO/Smartpy/Archetype code (do not upload this fixed original file to GitHub though!), transpile it to Michelson again and see what has changed. Be prepared to explain your fixes to the reviewer. The fixed code should also be deployed on a testnet, but not shared before the correction.\n",
        "\n",
        "\n",
        "*The approximate time you are expected to spend on this project is 16 hours.*\n",
        "\n",
        "## Project Submission & Presentation\n",
        "\n",
        "  When submitting your code to the Turing College repository, add a README explaining what the smart contracts are supposed to do, the address on a testnet, some sample inputs that can be used.\n",
        "\n",
        "  During your review, present the smart contracts to the other learner, explaining what the goal of these contracts is and how they are supposed to work. You can imagine that you are presenting your newly created project to another developer, attempting to convince them to use it. The contracts should be already deployed on a testnet and you should demonstrate during the review how they can be used.\n",
        "\n",
        "  We strongly suggest booking this correction at least a few days in advance, so that the other learner has more time to look into the code and prepare. \n",
        "\n",
        "If during the project review the reviewer is not able to identify any security flaws, explain the exact scenario in which the smart contract could be abused (i.e. what the inputs should be, what the attacker might want to achieve). If the reviewer is still unsure what the flaw is, explain it fully.\n",
        "\n",
        "  If the reviewer correctly identifies the flaw, congratulate them on a job well done! Even more so if flaws are found that were not deliberate. \n",
        "\n",
        "\n",
        "\n",
        "## Sample Questions\n",
        "Here are questions that the reviewer may choose to ask during the correction.\n",
        "\n",
        "- What is a reentrancy attack, how does it work, and how does Tezos make it hard to execute them?\n",
        "- What steps did you take to optimize the code of the smart contract (i.e. minimise gas, storage fees). Are there any parts that you now see that could have been optimized further?\n",
        "- How did you analyse the Michelson code that your smart contract generated?\n",
        "- What do you think are the hardest security flaws to fix?\n",
        "- What do you think are the hardest security flaws to detect?\n",
        "\n",
        "A reviewer is encouraged and expected to think of more questions.\n",
        "\n",
        "Note: The goal of the corrections is to promote a deeper understanding of learned topics by both learners. The reviewer and the reviewed learner must strive for a cooperative, friendly, and helpful interaction. Remember that both parties will rate each other after the correction on their technical and soft skills.\n",
        "\n",
        "\n",
        "## Project Evaluation Criteria\n",
        "- The two smart contracts are written and deployed on a testnet.\n",
        "- Quality of the smart contract code. The code is tidy, readable, does not have obviously inefficient parts, and useful comments are made.\n",
        "- The presentation of the two contracts is clear – it’s obvious what the smart contracts do and how they can be used. The learner demonstrates how the contracts can be used by doing calls to the smart contract on a testnet.\n",
        "- A deliberate security flaw has been left in the code, the learner clearly understands them and knows how to fix them. During the correction, the learner is able to provide an address of a deployed smart contract with the fixes, proving that these flaws have truly been deliberate.\n",
        "- General understanding of the theoretical topics covered in this sprint.\n"
      ],
      "metadata": {
        "id": "_hDnsWfaVFvf"
      }
    }
  ]
}